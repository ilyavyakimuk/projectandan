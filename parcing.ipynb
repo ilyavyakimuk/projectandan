{
 "cells": [
  {
   "cell_type": "code",
   "execution_count": 4,
   "metadata": {},
   "outputs": [
    {
     "name": "stdout",
     "output_type": "stream",
     "text": [
      "\n",
      "                              Preparing to collect information from pages..\n",
      "The absolute path to the file: \n",
      "d:\\python andan\\project\\cian_flat_rent_1_50_moskva_12_May_2024_20_22_32_951165.csv \n",
      "\n",
      "The page from which the collection of information begins: \n",
      " https://cian.ru/cat.php?engine_version=2&p=1&with_neighbors=0&region=1&deal_type=rent&offer_type=flat&room1=1&room2=1&room3=1&room9=1&type=4\n",
      "\n",
      "Collecting information from pages with list of offers\n",
      " 1 | 1 page with list: [=>=>=>=>=>=>=>=>=>=>=>=>=>=>=>=>=>=>=>=>=>=>=>=>=>=>=>=>] 100% | Count of all parsed: 28. Progress ratio: 2 %. Average price: 612 857 rub\n",
      " 2 | 2 page with list: [=>=>=>=>=>=>=>=>=>=>=>=>=>=>=>=>=>=>=>=>=>=>=>=>=>=>=>=>] 100% | Count of all parsed: 56. Progress ratio: 4 %. Average price: 758 635 rub\n",
      " 3 | 3 page with list: [=>=>=>=>=>=>=>=>=>=>=>=>=>=>=>=>=>=>=>=>=>=>=>=>=>=>=>=>] 100% | Count of all parsed: 84. Progress ratio: 6 %. Average price: 852 018 rub\n",
      " 4 | 4 page with list: [=>=>=>=>=>=>=>=>=>=>=>=>=>=>=>=>=>=>=>=>=>=>=>=>=>=>=>=>] 100% | Count of all parsed: 112. Progress ratio: 8 %. Average price: 1 006 216 rub\n",
      " 5 | 5 page with list: [=>=>=>=>=>=>=>=>=>=>=>=>=>=>=>=>=>=>=>=>=>=>=>=>=>=>=>=>] 100% | Count of all parsed: 140. Progress ratio: 10 %. Average price: 1 051 561 rub\n",
      " 6 | 6 page with list: [=>=>=>=>=>=>=>=>=>=>=>=>=>=>=>=>=>=>=>=>=>=>=>=>=>=>=>=>] 100% | Count of all parsed: 168. Progress ratio: 12 %. Average price: 1 094 475 rub\n",
      " 7 | 7 page with list: [=>=>=>=>=>=>=>=>=>=>=>=>=>=>=>=>=>=>=>=>=>=>=>=>=>=>=>=>] 100% | Count of all parsed: 196. Progress ratio: 14 %. Average price: 1 121 082 rub\n",
      " 8 | 8 page with list: [=>=>=>=>=>=>=>=>=>=>=>=>=>=>=>=>=>=>=>=>=>=>=>=>=>=>=>=>] 100% | Count of all parsed: 224. Progress ratio: 16 %. Average price: 1 145 929 rub\n",
      " 9 | 9 page with list: [=>=>=>=>=>=>=>=>=>=>=>=>=>=>=>=>=>=>=>=>=>=>=>=>=>=>=>=>] 100% | Count of all parsed: 252. Progress ratio: 18 %. Average price: 1 163 447 rub\n",
      " 10 | 10 page with list: [=>=>=>=>=>=>=>=>=>=>=>=>=>=>=>=>=>=>=>=>=>=>=>=>=>=>=>=>] 100% | Count of all parsed: 280. Progress ratio: 20 %. Average price: 1 181 437 rub\n",
      " 11 | 11 page with list: [=>=>=>=>=>=>=>=>=>=>=>=>=>=>=>=>=>=>=>=>=>=>=>=>=>=>=>=>] 100% | Count of all parsed: 308. Progress ratio: 22 %. Average price: 1 187 238 rub\n",
      " 12 | 12 page with list: [=>=>=>=>=>=>=>=>=>=>=>=>=>=>=>=>=>=>=>=>=>=>=>=>=>=>=>=>] 100% | Count of all parsed: 336. Progress ratio: 24 %. Average price: 1 193 742 rub\n",
      " 13 | 13 page with list: [=>=>=>=>=>=>=>=>=>=>=>=>=>=>=>=>=>=>=>=>=>=>=>=>=>=>=>=>] 100% | Count of all parsed: 364. Progress ratio: 26 %. Average price: 1 199 695 rub\n",
      " 14 | 14 page with list: [=>=>=>=>=>=>=>=>=>=>=>=>=>=>=>=>=>=>=>=>=>=>=>=>=>=>=>=>] 100% | Count of all parsed: 392. Progress ratio: 28 %. Average price: 1 208 195 rub\n",
      " 15 | 15 page with list: [=>=>=>=>=>=>=>=>=>=>=>=>=>=>=>=>=>=>=>=>=>=>=>=>=>=>=>=>] 100% | Count of all parsed: 420. Progress ratio: 30 %. Average price: 1 214 585 rub\n",
      " 16 | 16 page with list: [=>=>=>=>=>=>=>=>=>=>=>=>=>=>=>=>=>=>=>=>=>=>=>=>=>=>=>=>] 100% | Count of all parsed: 448. Progress ratio: 32 %. Average price: 1 221 499 rub\n",
      " 17 | 17 page with list: [=>=>=>=>=>=>=>=>=>=>=>=>=>=>=>=>=>=>=>=>=>=>=>=>=>=>=>=>] 100% | Count of all parsed: 476. Progress ratio: 34 %. Average price: 1 231 626 rub\n",
      " 18 | 18 page with list: [=>=>=>=>=>=>=>=>=>=>=>=>=>=>=>=>=>=>=>=>=>=>=>=>=>=>=>=>] 100% | Count of all parsed: 504. Progress ratio: 36 %. Average price: 1 240 187 rub\n",
      " 19 | 19 page with list: [=>=>=>=>=>=>=>=>=>=>=>=>=>=>=>=>=>=>=>=>=>=>=>=>=>=>=>=>] 100% | Count of all parsed: 532. Progress ratio: 38 %. Average price: 1 248 966 rub\n",
      " 20 | 20 page with list: [=>=>=>=>=>=>=>=>=>=>=>=>=>=>=>=>=>=>=>=>=>=>=>=>=>=>=>=>] 100% | Count of all parsed: 560. Progress ratio: 40 %. Average price: 1 260 409 rub\n",
      " 21 | 21 page with list: [=>=>=>=>=>=>=>=>=>=>=>=>=>=>=>=>=>=>=>=>=>=>=>=>=>=>=>=>] 100% | Count of all parsed: 588. Progress ratio: 42 %. Average price: 1 270 691 rub\n",
      " 22 | 22 page with list: [=>=>=>=>=>=>=>=>=>=>=>=>=>=>=>=>=>=>=>=>=>=>=>=>=>=>=>=>] 100% | Count of all parsed: 601. Progress ratio: 43 %. Average price: 1 272 229 rub\n",
      " 23 | 23 page with list: [=>=>=>=>=>=>=>=>=>=>=>=>=>=>=>=>=>=>=>=>=>=>=>=>=>=>=>=>] 100% | Count of all parsed: 629. Progress ratio: 45 %. Average price: 1 278 303 rub\n",
      " 24 | 24 page with list: [=>=>=>=>=>=>=>=>=>=>=>=>=>=>=>=>=>=>=>=>=>=>=>=>=>=>=>=>] 100% | Count of all parsed: 652. Progress ratio: 47 %. Average price: 1 282 638 rub\n",
      " 25 | 25 page with list: [=>=>=>=>=>=>=>=>=>=>=>=>=>=>=>=>=>=>=>=>=>=>=>=>=>=>=>=>] 100% | Count of all parsed: 676. Progress ratio: 49 %. Average price: 1 287 155 rub\n",
      " 26 | 26 page with list: [=>=>=>=>=>=>=>=>=>=>=>=>=>=>=>=>=>=>=>=>=>=>=>=>=>=>=>=>] 100% | Count of all parsed: 704. Progress ratio: 51 %. Average price: 1 304 138 rub\n",
      " 27 | 27 page with list: [=>=>=>=>=>=>=>=>=>=>=>=>=>=>=>=>=>=>=>=>=>=>=>=>=>=>=>=>] 100% | Count of all parsed: 732. Progress ratio: 53 %. Average price: 1 317 785 rub\n",
      " 28 | 28 page with list: [=>=>=>=>=>=>=>=>=>=>=>=>=>=>=>=>=>=>=>=>=>=>=>=>=>=>=>=>] 100% | Count of all parsed: 760. Progress ratio: 55 %. Average price: 1 319 260 rub\n",
      " 29 | 29 page with list: [=>=>=>=>=>=>=>=>=>=>=>=>=>=>=>=>=>=>=>=>=>=>=>=>=>=>=>=>] 100% | Count of all parsed: 788. Progress ratio: 57 %. Average price: 1 320 848 rub\n",
      " 30 | 30 page with list: [=>=>=>=>=>=>=>=>=>=>=>=>=>=>=>=>=>=>=>=>=>=>=>=>=>=>=>=>] 100% | Count of all parsed: 816. Progress ratio: 59 %. Average price: 1 322 490 rub\n",
      " 31 | 31 page with list: [=>=>=>=>=>=>=>=>=>=>=>=>=>=>=>=>=>=>=>=>=>=>=>=>=>=>=>=>] 100% | Count of all parsed: 844. Progress ratio: 61 %. Average price: 1 324 196 rub\n",
      " 32 | 32 page with list: [=>=>=>=>=>=>=>=>=>=>=>=>=>=>=>=>=>=>=>=>=>=>=>=>=>=>=>=>] 100% | Count of all parsed: 872. Progress ratio: 63 %. Average price: 1 325 990 rub\n",
      " 33 | 33 page with list: [=>=>=>=>=>=>=>=>=>=>=>=>=>=>=>=>=>=>=>=>=>=>=>=>=>=>=>=>] 100% | Count of all parsed: 900. Progress ratio: 65 %. Average price: 1 327 876 rub\n",
      " 34 | 34 page with list: [=>=>=>=>=>=>=>=>=>=>=>=>=>=>=>=>=>=>=>=>=>=>=>=>=>=>=>=>] 100% | Count of all parsed: 928. Progress ratio: 67 %. Average price: 1 329 868 rub\n",
      " 35 | 35 page with list: [=>=>=>=>=>=>=>=>=>=>=>=>=>=>=>=>=>=>=>=>=>=>=>=>=>=>=>=>] 100% | Count of all parsed: 956. Progress ratio: 69 %. Average price: 1 331 961 rub\n",
      " 36 | 36 page with list: [=>=>=>=>=>=>=>=>=>=>=>=>=>=>=>=>=>=>=>=>=>=>=>=>=>=>=>=>] 100% | Count of all parsed: 984. Progress ratio: 71 %. Average price: 1 334 238 rub\n",
      " 37 | 37 page with list: [=>=>=>=>=>=>=>=>=>=>=>=>=>=>=>=>=>=>=>=>=>=>=>=>=>=>=>=>] 100% | Count of all parsed: 1012. Progress ratio: 73 %. Average price: 1 336 949 rub\n",
      " 38 | 38 page with list: [=>=>=>=>=>=>=>=>=>=>=>=>=>=>=>=>=>=>=>=>=>=>=>=>=>=>=>=>] 100% | Count of all parsed: 1040. Progress ratio: 75 %. Average price: 1 340 201 rub\n",
      " 39 | 39 page with list: [=>=>=>=>=>=>=>=>=>=>=>=>=>=>=>=>=>=>=>=>=>=>=>=>=>=>=>=>] 100% | Count of all parsed: 1068. Progress ratio: 77 %. Average price: 1 344 170 rub\n",
      " 40 | 40 page with list: [=>=>=>=>=>=>=>=>=>=>=>=>=>=>=>=>=>=>=>=>=>=>=>=>=>=>=>=>] 100% | Count of all parsed: 1096. Progress ratio: 79 %. Average price: 1 349 411 rub\n",
      " 41 | 41 page with list: [=>=>=>=>=>=>=>=>=>=>=>=>=>=>=>=>=>=>=>=>=>=>=>=>=>=>=>=>] 100% | Count of all parsed: 1124. Progress ratio: 81 %. Average price: 1 356 657 rub\n",
      " 42 | 42 page with list: [=>=>=>=>=>=>=>=>=>=>=>=>=>=>=>=>=>=>=>=>=>=>=>=>=>=>=>=>] 100% | Count of all parsed: 1152. Progress ratio: 83 %. Average price: 1 357 490 rub\n",
      " 43 | 43 page with list: [=>=>=>=>=>=>=>=>=>=>=>=>=>=>=>=>=>=>=>=>=>=>=>=>=>=>=>=>] 100% | Count of all parsed: 1180. Progress ratio: 85 %. Average price: 1 358 473 rub\n",
      " 44 | 44 page with list: [=>=>=>=>=>=>=>=>=>=>=>=>=>=>=>=>=>=>=>=>=>=>=>=>=>=>=>=>] 100% | Count of all parsed: 1208. Progress ratio: 87 %. Average price: 1 359 533 rub\n",
      " 45 | 45 page with list: [=>=>=>=>=>=>=>=>=>=>=>=>=>=>=>=>=>=>=>=>=>=>=>=>=>=>=>=>] 100% | Count of all parsed: 1236. Progress ratio: 89 %. Average price: 1 360 666 rub\n",
      " 46 | 46 page with list: [=>=>=>=>=>=>=>=>=>=>=>=>=>=>=>=>=>=>=>=>=>=>=>=>=>=>=>=>] 100% | Count of all parsed: 1264. Progress ratio: 91 %. Average price: 1 361 880 rub\n",
      " 47 | 47 page with list: [=>=>=>=>=>=>=>=>=>=>=>=>=>=>=>=>=>=>=>=>=>=>=>=>=>=>=>=>] 100% | Count of all parsed: 1292. Progress ratio: 93 %. Average price: 1 363 180 rub\n",
      " 48 | 48 page with list: [=>=>=>=>=>=>=>=>=>=>=>=>=>=>=>=>=>=>=>=>=>=>=>=>=>=>=>=>] 100% | Count of all parsed: 1320. Progress ratio: 95 %. Average price: 1 364 581 rub\n",
      " 49 | 49 page with list: [=>=>=>=>=>=>=>=>=>=>=>=>=>=>=>=>=>=>=>=>=>=>=>=>=>=>=>=>] 100% | Count of all parsed: 1348. Progress ratio: 97 %. Average price: 1 366 082 rub\n",
      " 50 | 50 page with list: [=>=>=>=>=>=>=>=>=>=>=>=>=>=>=>=>=>=>=>=>=>=>=>=>=>=>=>=>] 100% | Count of all parsed: 1376. Progress ratio: 99 %. Average price: 1 367 691 rub\n",
      "\n",
      "The collection of information from the pages with list of offers is completed\n",
      "Total number of parsed offers: 1376. \n",
      "{'author': 'ANT Development', 'author_type': 'developer', 'url': 'https://www.cian.ru/sale/flat/283856125/', 'location': 'Москва', 'deal_type': 'sale', 'accommodation_type': 'flat', 'floor': 22, 'floors_count': 34, 'rooms_count': 2, 'total_meters': 50.6, 'price': 59236384, 'district': 'Дорогомилово', 'street': 'Поклонная ', 'house_number': '9', 'underground': 'Кутузовская', 'residential_complex': 'Поклонная 9'}\n"
     ]
    }
   ],
   "source": [
    "import cianparser\n",
    "\n",
    "moscow_parser = cianparser.CianParser(location=\"Москва\")\n",
    "dataflats = moscow_parser.get_flats(deal_type=\"rent_long\", rooms=(1, 2, 3, \"studio\"), with_saving_csv=True, additional_settings={\"start_page\":1, \"end_page\":50})\n",
    "\n",
    "print(data[0])"
   ]
  }
 ],
 "metadata": {
  "kernelspec": {
   "display_name": "Python 3",
   "language": "python",
   "name": "python3"
  },
  "language_info": {
   "codemirror_mode": {
    "name": "ipython",
    "version": 3
   },
   "file_extension": ".py",
   "mimetype": "text/x-python",
   "name": "python",
   "nbconvert_exporter": "python",
   "pygments_lexer": "ipython3",
   "version": "3.11.3"
  }
 },
 "nbformat": 4,
 "nbformat_minor": 2
}
