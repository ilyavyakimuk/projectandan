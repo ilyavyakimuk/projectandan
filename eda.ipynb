{
 "cells": [
  {
   "cell_type": "code",
   "execution_count": 2,
   "metadata": {},
   "outputs": [],
   "source": [
    "import numpy as np\n",
    "import pandas as pd\n",
    "\n",
    "import scipy.stats as sts\n",
    "import matplotlib.pyplot as plt\n",
    "import seaborn as sns"
   ]
  },
  {
   "cell_type": "code",
   "execution_count": 13,
   "metadata": {},
   "outputs": [],
   "source": [
    "data = pd.read_csv(\"cian_flat_rent_1_50_moskva_12_May_2024_20_22_32_951165.csv\")"
   ]
  },
  {
   "cell_type": "code",
   "execution_count": 54,
   "metadata": {},
   "outputs": [],
   "source": [
    "import pandas as pd\n",
    "\n",
    "# Replace 'data.csv' with the actual path to your CSV file\n",
    "df = pd.read_csv('cian_flat_rent_1_50_moskva_12_May_2024_20_22_32_951165.csv', sep=';', header=0, names=['author', 'author_type', 'url', 'location', 'deal_type', 'accommodation_type', 'floor', 'floors_count', 'rooms_count', 'total_meters', 'price_per_months','comissions','district','street','house_number','underground'])\n"
   ]
  },
  {
   "cell_type": "code",
   "execution_count": 55,
   "metadata": {},
   "outputs": [
    {
     "data": {
      "text/html": [
       "<div>\n",
       "<style scoped>\n",
       "    .dataframe tbody tr th:only-of-type {\n",
       "        vertical-align: middle;\n",
       "    }\n",
       "\n",
       "    .dataframe tbody tr th {\n",
       "        vertical-align: top;\n",
       "    }\n",
       "\n",
       "    .dataframe thead th {\n",
       "        text-align: right;\n",
       "    }\n",
       "</style>\n",
       "<table border=\"1\" class=\"dataframe\">\n",
       "  <thead>\n",
       "    <tr style=\"text-align: right;\">\n",
       "      <th></th>\n",
       "      <th>author</th>\n",
       "      <th>author_type</th>\n",
       "      <th>url</th>\n",
       "      <th>location</th>\n",
       "      <th>deal_type</th>\n",
       "      <th>accommodation_type</th>\n",
       "      <th>floor</th>\n",
       "      <th>floors_count</th>\n",
       "      <th>rooms_count</th>\n",
       "      <th>total_meters</th>\n",
       "      <th>price_per_months</th>\n",
       "      <th>comissions</th>\n",
       "      <th>district</th>\n",
       "      <th>street</th>\n",
       "      <th>house_number</th>\n",
       "      <th>underground</th>\n",
       "    </tr>\n",
       "  </thead>\n",
       "  <tbody>\n",
       "    <tr>\n",
       "      <th>0</th>\n",
       "      <td>Циан х ПИК-Аренда</td>\n",
       "      <td>real_estate_agent</td>\n",
       "      <td>https://www.cian.ru/rent/flat/300913633/</td>\n",
       "      <td>Москва</td>\n",
       "      <td>rent</td>\n",
       "      <td>flat</td>\n",
       "      <td>12</td>\n",
       "      <td>17</td>\n",
       "      <td>3</td>\n",
       "      <td>72.7</td>\n",
       "      <td>88000</td>\n",
       "      <td>0</td>\n",
       "      <td>Черемушки</td>\n",
       "      <td>Наметкина</td>\n",
       "      <td>11</td>\n",
       "      <td>Новые Черёмушки</td>\n",
       "    </tr>\n",
       "    <tr>\n",
       "      <th>1</th>\n",
       "      <td>АЛЬФА</td>\n",
       "      <td>real_estate_agent</td>\n",
       "      <td>https://www.cian.ru/rent/flat/301061437/</td>\n",
       "      <td>Москва</td>\n",
       "      <td>rent</td>\n",
       "      <td>flat</td>\n",
       "      <td>24</td>\n",
       "      <td>25</td>\n",
       "      <td>2</td>\n",
       "      <td>65.0</td>\n",
       "      <td>110000</td>\n",
       "      <td>0</td>\n",
       "      <td>Обручевский</td>\n",
       "      <td>Ленинский проспект</td>\n",
       "      <td>105к3</td>\n",
       "      <td>Новаторская</td>\n",
       "    </tr>\n",
       "    <tr>\n",
       "      <th>2</th>\n",
       "      <td>EMPIRE HOME</td>\n",
       "      <td>real_estate_agent</td>\n",
       "      <td>https://www.cian.ru/rent/flat/301599048/</td>\n",
       "      <td>Москва</td>\n",
       "      <td>rent</td>\n",
       "      <td>flat</td>\n",
       "      <td>1</td>\n",
       "      <td>6</td>\n",
       "      <td>1</td>\n",
       "      <td>35.0</td>\n",
       "      <td>33000</td>\n",
       "      <td>0</td>\n",
       "      <td>NaN</td>\n",
       "      <td>Жемчужная</td>\n",
       "      <td>1к16</td>\n",
       "      <td>Рассказовка</td>\n",
       "    </tr>\n",
       "    <tr>\n",
       "      <th>3</th>\n",
       "      <td>ЦАН</td>\n",
       "      <td>real_estate_agent</td>\n",
       "      <td>https://www.cian.ru/rent/flat/301067187/</td>\n",
       "      <td>Москва</td>\n",
       "      <td>rent</td>\n",
       "      <td>flat</td>\n",
       "      <td>24</td>\n",
       "      <td>25</td>\n",
       "      <td>2</td>\n",
       "      <td>66.0</td>\n",
       "      <td>110000</td>\n",
       "      <td>0</td>\n",
       "      <td>Обручевский</td>\n",
       "      <td>Ленинский проспект</td>\n",
       "      <td>105к3</td>\n",
       "      <td>Новаторская</td>\n",
       "    </tr>\n",
       "    <tr>\n",
       "      <th>4</th>\n",
       "      <td>ID 18835544</td>\n",
       "      <td>official_representative</td>\n",
       "      <td>https://www.cian.ru/rent/flat/278216280/</td>\n",
       "      <td>Москва</td>\n",
       "      <td>rent</td>\n",
       "      <td>flat</td>\n",
       "      <td>7</td>\n",
       "      <td>12</td>\n",
       "      <td>2</td>\n",
       "      <td>90.0</td>\n",
       "      <td>1000000</td>\n",
       "      <td>0</td>\n",
       "      <td>Тверской</td>\n",
       "      <td>Охотный Ряд</td>\n",
       "      <td>2</td>\n",
       "      <td>Охотный ряд</td>\n",
       "    </tr>\n",
       "  </tbody>\n",
       "</table>\n",
       "</div>"
      ],
      "text/plain": [
       "              author              author_type  \\\n",
       "0  Циан х ПИК-Аренда        real_estate_agent   \n",
       "1              АЛЬФА        real_estate_agent   \n",
       "2        EMPIRE HOME        real_estate_agent   \n",
       "3                ЦАН        real_estate_agent   \n",
       "4        ID 18835544  official_representative   \n",
       "\n",
       "                                        url location deal_type  \\\n",
       "0  https://www.cian.ru/rent/flat/300913633/   Москва      rent   \n",
       "1  https://www.cian.ru/rent/flat/301061437/   Москва      rent   \n",
       "2  https://www.cian.ru/rent/flat/301599048/   Москва      rent   \n",
       "3  https://www.cian.ru/rent/flat/301067187/   Москва      rent   \n",
       "4  https://www.cian.ru/rent/flat/278216280/   Москва      rent   \n",
       "\n",
       "  accommodation_type  floor  floors_count  rooms_count  total_meters  \\\n",
       "0               flat     12            17            3          72.7   \n",
       "1               flat     24            25            2          65.0   \n",
       "2               flat      1             6            1          35.0   \n",
       "3               flat     24            25            2          66.0   \n",
       "4               flat      7            12            2          90.0   \n",
       "\n",
       "   price_per_months  comissions     district              street house_number  \\\n",
       "0             88000           0    Черемушки           Наметкина           11   \n",
       "1            110000           0  Обручевский  Ленинский проспект        105к3   \n",
       "2             33000           0          NaN           Жемчужная         1к16   \n",
       "3            110000           0  Обручевский  Ленинский проспект        105к3   \n",
       "4           1000000           0     Тверской         Охотный Ряд            2   \n",
       "\n",
       "       underground  \n",
       "0  Новые Черёмушки  \n",
       "1      Новаторская  \n",
       "2      Рассказовка  \n",
       "3      Новаторская  \n",
       "4      Охотный ряд  "
      ]
     },
     "execution_count": 55,
     "metadata": {},
     "output_type": "execute_result"
    }
   ],
   "source": [
    "df.head()"
   ]
  },
  {
   "cell_type": "code",
   "execution_count": 56,
   "metadata": {},
   "outputs": [
    {
     "data": {
      "text/plain": [
       "(1376, 16)"
      ]
     },
     "execution_count": 56,
     "metadata": {},
     "output_type": "execute_result"
    }
   ],
   "source": [
    "df.shape"
   ]
  },
  {
   "cell_type": "markdown",
   "metadata": {},
   "source": [
    "### проверим на наличие дубликатов"
   ]
  },
  {
   "cell_type": "code",
   "execution_count": 57,
   "metadata": {},
   "outputs": [],
   "source": [
    "df_no_dup = df.drop_duplicates()"
   ]
  },
  {
   "cell_type": "code",
   "execution_count": 58,
   "metadata": {},
   "outputs": [
    {
     "data": {
      "text/plain": [
       "(1376, 16)"
      ]
     },
     "execution_count": 58,
     "metadata": {},
     "output_type": "execute_result"
    }
   ],
   "source": [
    "df_no_dup.shape #осталось наблюдений(дубликатов нет)"
   ]
  },
  {
   "cell_type": "code",
   "execution_count": 59,
   "metadata": {},
   "outputs": [
    {
     "name": "stdout",
     "output_type": "stream",
     "text": [
      "<class 'pandas.core.frame.DataFrame'>\n",
      "RangeIndex: 1376 entries, 0 to 1375\n",
      "Data columns (total 16 columns):\n",
      " #   Column              Non-Null Count  Dtype  \n",
      "---  ------              --------------  -----  \n",
      " 0   author              1376 non-null   object \n",
      " 1   author_type         1376 non-null   object \n",
      " 2   url                 1376 non-null   object \n",
      " 3   location            1376 non-null   object \n",
      " 4   deal_type           1376 non-null   object \n",
      " 5   accommodation_type  1376 non-null   object \n",
      " 6   floor               1376 non-null   int64  \n",
      " 7   floors_count        1376 non-null   int64  \n",
      " 8   rooms_count         1376 non-null   int64  \n",
      " 9   total_meters        1376 non-null   float64\n",
      " 10  price_per_months    1376 non-null   int64  \n",
      " 11  comissions          1376 non-null   int64  \n",
      " 12  district            1250 non-null   object \n",
      " 13  street              1353 non-null   object \n",
      " 14  house_number        1374 non-null   object \n",
      " 15  underground         1365 non-null   object \n",
      "dtypes: float64(1), int64(5), object(10)\n",
      "memory usage: 172.1+ KB\n"
     ]
    }
   ],
   "source": [
    "df.info()"
   ]
  },
  {
   "cell_type": "markdown",
   "metadata": {},
   "source": [
    "## Посмотрим на начальное распределение цены "
   ]
  },
  {
   "cell_type": "code",
   "execution_count": 60,
   "metadata": {},
   "outputs": [],
   "source": [
    "dfa = df.dropna()"
   ]
  },
  {
   "cell_type": "code",
   "execution_count": 61,
   "metadata": {},
   "outputs": [
    {
     "data": {
      "text/plain": [
       "(1229, 16)"
      ]
     },
     "execution_count": 61,
     "metadata": {},
     "output_type": "execute_result"
    }
   ],
   "source": [
    "dfa.shape #видим, что строчек с пропусками было не очень много относительно всех данных, поэтому ими можно пренебречь"
   ]
  },
  {
   "cell_type": "markdown",
   "metadata": {},
   "source": [
    "## визуально рассмотрим распределение целевой переменной"
   ]
  },
  {
   "cell_type": "code",
   "execution_count": 62,
   "metadata": {},
   "outputs": [
    {
     "data": {
      "image/png": "[encoded data removed]",
      "text/plain": [
       "<Figure size 640x480 with 1 Axes>"
      ]
     },
     "metadata": {},
     "output_type": "display_data"
    }
   ],
   "source": [
    "sns.kdeplot(dfa['price_per_months'] , fill = True, color = 'green')\n",
    "\n",
    "plt.suptitle('Распределение целевой переменной')\n",
    "plt.xlabel('Стоимость квартиры')\n",
    "plt.ylabel('Частота')\n",
    "plt.show() "
   ]
  },
  {
   "cell_type": "markdown",
   "metadata": {},
   "source": [
    "### видим, что в правом хвосте много выбросов, поработаем с ними"
   ]
  },
  {
   "cell_type": "code",
   "execution_count": 73,
   "metadata": {},
   "outputs": [
    {
     "data": {
      "image/png": "[encoded data removed]",
      "text/plain": [
       "<Figure size 1600x500 with 4 Axes>"
      ]
     },
     "metadata": {},
     "output_type": "display_data"
    }
   ],
   "source": [
    "sns.set_style('darkgrid')\n",
    "fig, ax = plt.subplots(2, 2, figsize=(16, 5))\n",
    "\n",
    "lst = ['price_per_months', 'total_meters']\n",
    "\n",
    "for i in range(len(lst)):\n",
    "    ax[0][i].set_title(lst[i])\n",
    "    ax[0][i].boxplot(dfa[lst[i]], vert = False);\n",
    "\n",
    "    ax[1][i].hist(dfa[lst[i]]);\n",
    "    ax[1][i].axvline(dfa[lst[i]].mean(), color = 'red', label = 'Среднее')\n",
    "    ax[1][i].axvline(dfa[lst[i]].median(), color = 'orange', label = 'Медиана')\n",
    "    ax[1][i].legend()"
   ]
  },
  {
   "cell_type": "markdown",
   "metadata": {},
   "source": [
    "#### найдем границы того, что будем считать выбросами"
   ]
  },
  {
   "cell_type": "code",
   "execution_count": 67,
   "metadata": {},
   "outputs": [
    {
     "data": {
      "text/plain": [
       "(-87500.0, 292500.0)"
      ]
     },
     "execution_count": 67,
     "metadata": {},
     "output_type": "execute_result"
    }
   ],
   "source": [
    "q1 = dfa['price_per_months'].quantile(0.25)\n",
    "q3 = dfa['price_per_months'].quantile(0.75)\n",
    "iqr = q3-q1\n",
    "left = q1 - 1.5*iqr\n",
    "right = q3 + 1.5*iqr\n",
    "left, right "
   ]
  },
  {
   "cell_type": "markdown",
   "metadata": {},
   "source": [
    "#### по результату видно, что слева выбросов нет, в то время как справа их довольно много. Делаем фильтрацию и оставляем данные без выбросов:"
   ]
  },
  {
   "cell_type": "code",
   "execution_count": 72,
   "metadata": {},
   "outputs": [
    {
     "data": {
      "text/html": [
       "<div>\n",
       "<style scoped>\n",
       "    .dataframe tbody tr th:only-of-type {\n",
       "        vertical-align: middle;\n",
       "    }\n",
       "\n",
       "    .dataframe tbody tr th {\n",
       "        vertical-align: top;\n",
       "    }\n",
       "\n",
       "    .dataframe thead th {\n",
       "        text-align: right;\n",
       "    }\n",
       "</style>\n",
       "<table border=\"1\" class=\"dataframe\">\n",
       "  <thead>\n",
       "    <tr style=\"text-align: right;\">\n",
       "      <th></th>\n",
       "      <th>author</th>\n",
       "      <th>author_type</th>\n",
       "      <th>url</th>\n",
       "      <th>location</th>\n",
       "      <th>deal_type</th>\n",
       "      <th>accommodation_type</th>\n",
       "      <th>floor</th>\n",
       "      <th>floors_count</th>\n",
       "      <th>rooms_count</th>\n",
       "      <th>total_meters</th>\n",
       "      <th>price_per_months</th>\n",
       "      <th>comissions</th>\n",
       "      <th>district</th>\n",
       "      <th>street</th>\n",
       "      <th>house_number</th>\n",
       "      <th>underground</th>\n",
       "    </tr>\n",
       "  </thead>\n",
       "  <tbody>\n",
       "    <tr>\n",
       "      <th>0</th>\n",
       "      <td>Циан х ПИК-Аренда</td>\n",
       "      <td>real_estate_agent</td>\n",
       "      <td>https://www.cian.ru/rent/flat/300913633/</td>\n",
       "      <td>Москва</td>\n",
       "      <td>rent</td>\n",
       "      <td>flat</td>\n",
       "      <td>12</td>\n",
       "      <td>17</td>\n",
       "      <td>3</td>\n",
       "      <td>72.7</td>\n",
       "      <td>88000</td>\n",
       "      <td>0</td>\n",
       "      <td>Черемушки</td>\n",
       "      <td>Наметкина</td>\n",
       "      <td>11</td>\n",
       "      <td>Новые Черёмушки</td>\n",
       "    </tr>\n",
       "    <tr>\n",
       "      <th>1</th>\n",
       "      <td>АЛЬФА</td>\n",
       "      <td>real_estate_agent</td>\n",
       "      <td>https://www.cian.ru/rent/flat/301061437/</td>\n",
       "      <td>Москва</td>\n",
       "      <td>rent</td>\n",
       "      <td>flat</td>\n",
       "      <td>24</td>\n",
       "      <td>25</td>\n",
       "      <td>2</td>\n",
       "      <td>65.0</td>\n",
       "      <td>110000</td>\n",
       "      <td>0</td>\n",
       "      <td>Обручевский</td>\n",
       "      <td>Ленинский проспект</td>\n",
       "      <td>105к3</td>\n",
       "      <td>Новаторская</td>\n",
       "    </tr>\n",
       "    <tr>\n",
       "      <th>3</th>\n",
       "      <td>ЦАН</td>\n",
       "      <td>real_estate_agent</td>\n",
       "      <td>https://www.cian.ru/rent/flat/301067187/</td>\n",
       "      <td>Москва</td>\n",
       "      <td>rent</td>\n",
       "      <td>flat</td>\n",
       "      <td>24</td>\n",
       "      <td>25</td>\n",
       "      <td>2</td>\n",
       "      <td>66.0</td>\n",
       "      <td>110000</td>\n",
       "      <td>0</td>\n",
       "      <td>Обручевский</td>\n",
       "      <td>Ленинский проспект</td>\n",
       "      <td>105к3</td>\n",
       "      <td>Новаторская</td>\n",
       "    </tr>\n",
       "    <tr>\n",
       "      <th>6</th>\n",
       "      <td>ДОМ.РФ Аренда</td>\n",
       "      <td>real_estate_agent</td>\n",
       "      <td>https://www.cian.ru/rent/flat/301787649/</td>\n",
       "      <td>Москва</td>\n",
       "      <td>rent</td>\n",
       "      <td>flat</td>\n",
       "      <td>15</td>\n",
       "      <td>15</td>\n",
       "      <td>-1</td>\n",
       "      <td>45.0</td>\n",
       "      <td>105990</td>\n",
       "      <td>0</td>\n",
       "      <td>Хорошевский</td>\n",
       "      <td>Ходынский бульвар</td>\n",
       "      <td>2</td>\n",
       "      <td>ЦСКА</td>\n",
       "    </tr>\n",
       "    <tr>\n",
       "      <th>7</th>\n",
       "      <td>Циан х ПИК-Аренда</td>\n",
       "      <td>real_estate_agent</td>\n",
       "      <td>https://www.cian.ru/rent/flat/301225189/</td>\n",
       "      <td>Москва</td>\n",
       "      <td>rent</td>\n",
       "      <td>flat</td>\n",
       "      <td>10</td>\n",
       "      <td>33</td>\n",
       "      <td>1</td>\n",
       "      <td>35.9</td>\n",
       "      <td>80900</td>\n",
       "      <td>0</td>\n",
       "      <td>Головинский</td>\n",
       "      <td>Кронштадтский бульвар</td>\n",
       "      <td>8к1</td>\n",
       "      <td>Водный стадион</td>\n",
       "    </tr>\n",
       "    <tr>\n",
       "      <th>...</th>\n",
       "      <td>...</td>\n",
       "      <td>...</td>\n",
       "      <td>...</td>\n",
       "      <td>...</td>\n",
       "      <td>...</td>\n",
       "      <td>...</td>\n",
       "      <td>...</td>\n",
       "      <td>...</td>\n",
       "      <td>...</td>\n",
       "      <td>...</td>\n",
       "      <td>...</td>\n",
       "      <td>...</td>\n",
       "      <td>...</td>\n",
       "      <td>...</td>\n",
       "      <td>...</td>\n",
       "      <td>...</td>\n",
       "    </tr>\n",
       "    <tr>\n",
       "      <th>1371</th>\n",
       "      <td>Александр Михайлов</td>\n",
       "      <td>realtor</td>\n",
       "      <td>https://www.cian.ru/rent/flat/300893858/</td>\n",
       "      <td>Москва</td>\n",
       "      <td>rent</td>\n",
       "      <td>flat</td>\n",
       "      <td>3</td>\n",
       "      <td>24</td>\n",
       "      <td>2</td>\n",
       "      <td>62.2</td>\n",
       "      <td>80000</td>\n",
       "      <td>0</td>\n",
       "      <td>Нижегородский</td>\n",
       "      <td>Новохохловская</td>\n",
       "      <td>15к1</td>\n",
       "      <td>Новохохловская</td>\n",
       "    </tr>\n",
       "    <tr>\n",
       "      <th>1372</th>\n",
       "      <td>EMPIRE HOME</td>\n",
       "      <td>real_estate_agent</td>\n",
       "      <td>https://www.cian.ru/rent/flat/301645040/</td>\n",
       "      <td>Москва</td>\n",
       "      <td>rent</td>\n",
       "      <td>flat</td>\n",
       "      <td>14</td>\n",
       "      <td>17</td>\n",
       "      <td>2</td>\n",
       "      <td>56.5</td>\n",
       "      <td>82000</td>\n",
       "      <td>0</td>\n",
       "      <td>Ростокино</td>\n",
       "      <td>Сельскохозяйственная</td>\n",
       "      <td>18К3</td>\n",
       "      <td>Ботанический сад</td>\n",
       "    </tr>\n",
       "    <tr>\n",
       "      <th>1373</th>\n",
       "      <td>Ольга Линькова</td>\n",
       "      <td>realtor</td>\n",
       "      <td>https://www.cian.ru/rent/flat/274090434/</td>\n",
       "      <td>Москва</td>\n",
       "      <td>rent</td>\n",
       "      <td>flat</td>\n",
       "      <td>3</td>\n",
       "      <td>5</td>\n",
       "      <td>2</td>\n",
       "      <td>50.0</td>\n",
       "      <td>85000</td>\n",
       "      <td>0</td>\n",
       "      <td>Гольяново</td>\n",
       "      <td>Амурская</td>\n",
       "      <td>1Ак2</td>\n",
       "      <td>Черкизовская</td>\n",
       "    </tr>\n",
       "    <tr>\n",
       "      <th>1374</th>\n",
       "      <td>ЭЛЬНОВА</td>\n",
       "      <td>real_estate_agent</td>\n",
       "      <td>https://www.cian.ru/rent/flat/301833568/</td>\n",
       "      <td>Москва</td>\n",
       "      <td>rent</td>\n",
       "      <td>flat</td>\n",
       "      <td>9</td>\n",
       "      <td>9</td>\n",
       "      <td>3</td>\n",
       "      <td>83.0</td>\n",
       "      <td>85000</td>\n",
       "      <td>0</td>\n",
       "      <td>Сокольники</td>\n",
       "      <td>3-я Рыбинская</td>\n",
       "      <td>1</td>\n",
       "      <td>Сокольники</td>\n",
       "    </tr>\n",
       "    <tr>\n",
       "      <th>1375</th>\n",
       "      <td>ID 94828870</td>\n",
       "      <td>homeowner</td>\n",
       "      <td>https://www.cian.ru/rent/flat/300416890/</td>\n",
       "      <td>Москва</td>\n",
       "      <td>rent</td>\n",
       "      <td>flat</td>\n",
       "      <td>3</td>\n",
       "      <td>7</td>\n",
       "      <td>2</td>\n",
       "      <td>66.0</td>\n",
       "      <td>85000</td>\n",
       "      <td>0</td>\n",
       "      <td>Таганский</td>\n",
       "      <td>Воронцовская</td>\n",
       "      <td>32С1</td>\n",
       "      <td>Крестьянская застава</td>\n",
       "    </tr>\n",
       "  </tbody>\n",
       "</table>\n",
       "<p>1086 rows × 16 columns</p>\n",
       "</div>"
      ],
      "text/plain": [
       "                  author        author_type  \\\n",
       "0      Циан х ПИК-Аренда  real_estate_agent   \n",
       "1                  АЛЬФА  real_estate_agent   \n",
       "3                    ЦАН  real_estate_agent   \n",
       "6          ДОМ.РФ Аренда  real_estate_agent   \n",
       "7      Циан х ПИК-Аренда  real_estate_agent   \n",
       "...                  ...                ...   \n",
       "1371  Александр Михайлов            realtor   \n",
       "1372         EMPIRE HOME  real_estate_agent   \n",
       "1373      Ольга Линькова            realtor   \n",
       "1374             ЭЛЬНОВА  real_estate_agent   \n",
       "1375         ID 94828870          homeowner   \n",
       "\n",
       "                                           url location deal_type  \\\n",
       "0     https://www.cian.ru/rent/flat/300913633/   Москва      rent   \n",
       "1     https://www.cian.ru/rent/flat/301061437/   Москва      rent   \n",
       "3     https://www.cian.ru/rent/flat/301067187/   Москва      rent   \n",
       "6     https://www.cian.ru/rent/flat/301787649/   Москва      rent   \n",
       "7     https://www.cian.ru/rent/flat/301225189/   Москва      rent   \n",
       "...                                        ...      ...       ...   \n",
       "1371  https://www.cian.ru/rent/flat/300893858/   Москва      rent   \n",
       "1372  https://www.cian.ru/rent/flat/301645040/   Москва      rent   \n",
       "1373  https://www.cian.ru/rent/flat/274090434/   Москва      rent   \n",
       "1374  https://www.cian.ru/rent/flat/301833568/   Москва      rent   \n",
       "1375  https://www.cian.ru/rent/flat/300416890/   Москва      rent   \n",
       "\n",
       "     accommodation_type  floor  floors_count  rooms_count  total_meters  \\\n",
       "0                  flat     12            17            3          72.7   \n",
       "1                  flat     24            25            2          65.0   \n",
       "3                  flat     24            25            2          66.0   \n",
       "6                  flat     15            15           -1          45.0   \n",
       "7                  flat     10            33            1          35.9   \n",
       "...                 ...    ...           ...          ...           ...   \n",
       "1371               flat      3            24            2          62.2   \n",
       "1372               flat     14            17            2          56.5   \n",
       "1373               flat      3             5            2          50.0   \n",
       "1374               flat      9             9            3          83.0   \n",
       "1375               flat      3             7            2          66.0   \n",
       "\n",
       "      price_per_months  comissions       district                 street  \\\n",
       "0                88000           0      Черемушки              Наметкина   \n",
       "1               110000           0    Обручевский     Ленинский проспект   \n",
       "3               110000           0    Обручевский     Ленинский проспект   \n",
       "6               105990           0    Хорошевский      Ходынский бульвар   \n",
       "7                80900           0    Головинский  Кронштадтский бульвар   \n",
       "...                ...         ...            ...                    ...   \n",
       "1371             80000           0  Нижегородский        Новохохловская    \n",
       "1372             82000           0      Ростокино  Сельскохозяйственная    \n",
       "1373             85000           0      Гольяново              Амурская    \n",
       "1374             85000           0     Сокольники         3-я Рыбинская    \n",
       "1375             85000           0      Таганский          Воронцовская    \n",
       "\n",
       "     house_number           underground  \n",
       "0              11       Новые Черёмушки  \n",
       "1           105к3           Новаторская  \n",
       "3           105к3           Новаторская  \n",
       "6               2                  ЦСКА  \n",
       "7             8к1        Водный стадион  \n",
       "...           ...                   ...  \n",
       "1371         15к1        Новохохловская  \n",
       "1372         18К3      Ботанический сад  \n",
       "1373         1Ак2          Черкизовская  \n",
       "1374            1            Сокольники  \n",
       "1375         32С1  Крестьянская застава  \n",
       "\n",
       "[1086 rows x 16 columns]"
      ]
     },
     "execution_count": 72,
     "metadata": {},
     "output_type": "execute_result"
    }
   ],
   "source": [
    "df_clean = dfa[(dfa['price_per_months']>=left) & (dfa['price_per_months']<=right)]\n",
    "df_clean"
   ]
  },
  {
   "cell_type": "code",
   "execution_count": 79,
   "metadata": {},
   "outputs": [
    {
     "data": {
      "image/png": "[encoded data removed]",
      "text/plain": [
       "<Figure size 1600x500 with 4 Axes>"
      ]
     },
     "metadata": {},
     "output_type": "display_data"
    }
   ],
   "source": [
    "sns.set_style('darkgrid')\n",
    "fig, ax = plt.subplots(2, 2, figsize=(16, 5))\n",
    "\n",
    "lst = ['price_per_months', 'total_meters']\n",
    "\n",
    "for i in range(len(lst)):\n",
    "    ax[0][i].set_title(lst[i])\n",
    "    ax[0][i].boxplot(df_clean[lst[i]], vert = False);\n",
    "\n",
    "    ax[1][i].hist(df_clean[lst[i]]);\n",
    "    ax[1][i].axvline(df_clean[lst[i]].mean(), color = 'red', label = 'Среднее')\n",
    "    ax[1][i].axvline(df_clean[lst[i]].median(), color = 'orange', label = 'Медиана')\n",
    "    ax[1][i].axvline(df_clean[lst[i]].mode().iloc[0], color = 'green', label = 'Мода')\n",
    "\n",
    "    ax[1][i].legend()"
   ]
  },
  {
   "cell_type": "markdown",
   "metadata": {},
   "source": [
    "#### стало лучше"
   ]
  },
  {
   "cell_type": "markdown",
   "metadata": {},
   "source": [
    "### посмотрим на меры центральной тенденции"
   ]
  },
  {
   "cell_type": "code",
   "execution_count": 46,
   "metadata": {},
   "outputs": [
    {
     "data": {
      "text/plain": [
       "137010.38590116278"
      ]
     },
     "execution_count": 46,
     "metadata": {},
     "output_type": "execute_result"
    }
   ],
   "source": [
    "df['price_per_months'].mean()"
   ]
  },
  {
   "cell_type": "code",
   "execution_count": 47,
   "metadata": {},
   "outputs": [
    {
     "data": {
      "text/plain": [
       "70000.0"
      ]
     },
     "execution_count": 47,
     "metadata": {},
     "output_type": "execute_result"
    }
   ],
   "source": [
    "df['price_per_months'].median()"
   ]
  },
  {
   "cell_type": "code",
   "execution_count": 48,
   "metadata": {},
   "outputs": [
    {
     "data": {
      "text/plain": [
       "0    65000\n",
       "Name: price_per_months, dtype: int64"
      ]
     },
     "execution_count": 48,
     "metadata": {},
     "output_type": "execute_result"
    }
   ],
   "source": [
    "df['price_per_months'].mode()"
   ]
  },
  {
   "cell_type": "markdown",
   "metadata": {},
   "source": [
    "#### Видим как визуально, так и по цифрам, что у нас мода < медиана < среднее арифметическое, значит, у нас унимодальное скошенное вправо распределение. Унимодальное оно, так как пик графика частоты(как это заметно) один"
   ]
  },
  {
   "cell_type": "markdown",
   "metadata": {},
   "source": [
    "## Корелляционный анализ"
   ]
  },
  {
   "cell_type": "code",
   "execution_count": 80,
   "metadata": {},
   "outputs": [
    {
     "data": {
      "text/html": [
       "<div>\n",
       "<style scoped>\n",
       "    .dataframe tbody tr th:only-of-type {\n",
       "        vertical-align: middle;\n",
       "    }\n",
       "\n",
       "    .dataframe tbody tr th {\n",
       "        vertical-align: top;\n",
       "    }\n",
       "\n",
       "    .dataframe thead th {\n",
       "        text-align: right;\n",
       "    }\n",
       "</style>\n",
       "<table border=\"1\" class=\"dataframe\">\n",
       "  <thead>\n",
       "    <tr style=\"text-align: right;\">\n",
       "      <th></th>\n",
       "      <th>price_per_months</th>\n",
       "      <th>floors_count</th>\n",
       "      <th>rooms_count</th>\n",
       "      <th>total_meters</th>\n",
       "    </tr>\n",
       "  </thead>\n",
       "  <tbody>\n",
       "    <tr>\n",
       "      <th>price_per_months</th>\n",
       "      <td>1.000000</td>\n",
       "      <td>0.296667</td>\n",
       "      <td>0.471368</td>\n",
       "      <td>0.697272</td>\n",
       "    </tr>\n",
       "    <tr>\n",
       "      <th>floors_count</th>\n",
       "      <td>0.296667</td>\n",
       "      <td>1.000000</td>\n",
       "      <td>0.073188</td>\n",
       "      <td>0.095572</td>\n",
       "    </tr>\n",
       "    <tr>\n",
       "      <th>rooms_count</th>\n",
       "      <td>0.471368</td>\n",
       "      <td>0.073188</td>\n",
       "      <td>1.000000</td>\n",
       "      <td>0.714623</td>\n",
       "    </tr>\n",
       "    <tr>\n",
       "      <th>total_meters</th>\n",
       "      <td>0.697272</td>\n",
       "      <td>0.095572</td>\n",
       "      <td>0.714623</td>\n",
       "      <td>1.000000</td>\n",
       "    </tr>\n",
       "  </tbody>\n",
       "</table>\n",
       "</div>"
      ],
      "text/plain": [
       "                  price_per_months  floors_count  rooms_count  total_meters\n",
       "price_per_months          1.000000      0.296667     0.471368      0.697272\n",
       "floors_count              0.296667      1.000000     0.073188      0.095572\n",
       "rooms_count               0.471368      0.073188     1.000000      0.714623\n",
       "total_meters              0.697272      0.095572     0.714623      1.000000"
      ]
     },
     "execution_count": 80,
     "metadata": {},
     "output_type": "execute_result"
    }
   ],
   "source": [
    "df_clean[['price_per_months', 'floors_count', 'rooms_count','total_meters']].corr()"
   ]
  },
  {
   "cell_type": "code",
   "execution_count": 81,
   "metadata": {},
   "outputs": [
    {
     "data": {
      "text/plain": [
       "<Axes: >"
      ]
     },
     "execution_count": 81,
     "metadata": {},
     "output_type": "execute_result"
    },
    {
     "data": {
      "image/png": "[encoded data removed]",
      "text/plain": [
       "<Figure size 640x480 with 2 Axes>"
      ]
     },
     "metadata": {},
     "output_type": "display_data"
    }
   ],
   "source": [
    "sns.heatmap(df_clean[['price_per_months', 'floors_count', 'rooms_count','total_meters']].corr(), annot = True)"
   ]
  },
  {
   "cell_type": "markdown",
   "metadata": {},
   "source": [
    "#### Коэффициент корреляции Пирсона (r) позволяет оценить силу и направление линейной взаимосвязи между числовыми непрерывными данными, хоть количество комнат и этажей не являются непрерывными, они, все таки также могут быть оценены(в данном случае) с помощью r. Если корреляция цены с комнатами и с метрами вполне очевидна, то с этажами она слабая, но все же, есть. Скорее всего за счет того, высокие дома преимущественно новые, поэтому и квартиры в них дороже."
   ]
  }
 ],
 "metadata": {
  "kernelspec": {
   "display_name": "Python 3",
   "language": "python",
   "name": "python3"
  },
  "language_info": {
   "codemirror_mode": {
    "name": "ipython",
    "version": 3
   },
   "file_extension": ".py",
   "mimetype": "text/x-python",
   "name": "python",
   "nbconvert_exporter": "python",
   "pygments_lexer": "ipython3",
   "version": "3.12.2"
  }
 },
 "nbformat": 4,
 "nbformat_minor": 2
}
